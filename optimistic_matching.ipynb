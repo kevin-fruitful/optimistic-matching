{
 "cells": [
  {
   "cell_type": "code",
   "execution_count": 15,
   "metadata": {},
   "outputs": [
    {
     "name": "stdout",
     "output_type": "stream",
     "text": [
      "c maker_buy_amount {10000}\n",
      "d remaining_buy_amount {9999}\n",
      "a maker_sell_amount {10000}\n",
      "b remaining_sell_amount {10000}\n",
      "c maker_buy_amount * d remaining_buy_amount : 99990000\n",
      "a maker_sell_amount * b remaining_sell_amount : 100000000\n",
      "diff of buy - sell: -10000\n",
      "match no o: False\n",
      "match o sell: False\n",
      "match o buy: True\n",
      "c maker_buy_amount {10000}\n",
      "d remaining_buy_amount {10000}\n",
      "a maker_sell_amount {9999}\n",
      "b remaining_sell_amount {9999}\n",
      "c maker_buy_amount * d remaining_buy_amount : 100000000\n",
      "a maker_sell_amount * b remaining_sell_amount : 99990000\n",
      "diff of buy - sell: 10000\n",
      "match no o: True\n",
      "match o sell: False\n",
      "match o buy: True\n"
     ]
    }
   ],
   "source": [
    "# c = maker_buy_amount = eAliceParTokenPrice\n",
    "# d = remaining_buy_amount = bobEAliceBuyAmount\n",
    "# a = maker_sell_amount = bobWethDepositAmount\n",
    "# b = remaining_sell_amount = eAliceParTokenSaleAmount\n",
    "\n",
    "def o_m(\n",
    "    maker_buy_amount, remaining_buy_amount, maker_sell_amount, remaining_sell_amount\n",
    "):\n",
    "    c = maker_buy_amount\n",
    "    d = remaining_buy_amount\n",
    "    a = maker_sell_amount\n",
    "    b = remaining_sell_amount\n",
    "    # No optimistic matching\n",
    "    result_no_o = c * d >= a * b\n",
    "    # Optimistic matching on maker, sell side, selling \"less\" for \"more\"\n",
    "    result_o_sell = (c - 1) * (d - 1) > (a + 1) * (b + 1)\n",
    "    # Optimistic matching on maker, buy side, buying \"more\" for \"less\"\n",
    "    result_o_buy = (c + 1) * (d + 1) > (a - 1) * (b - 1)\n",
    "    \n",
    "    \n",
    "    print(f\"c maker_buy_amount\", {maker_buy_amount})\n",
    "    print(f\"d remaining_buy_amount\", {remaining_buy_amount})\n",
    "    print(f\"a maker_sell_amount\", {remaining_sell_amount})\n",
    "    print(f\"b remaining_sell_amount\", {remaining_sell_amount})\n",
    "    print(\n",
    "        f\"c maker_buy_amount * d remaining_buy_amount : {maker_buy_amount * remaining_buy_amount}\"\n",
    "    )\n",
    "    print(\n",
    "        f\"a maker_sell_amount * b remaining_sell_amount : {maker_sell_amount * remaining_sell_amount}\"\n",
    "    )\n",
    "    print(f\"diff of buy - sell: {maker_buy_amount * remaining_buy_amount - maker_sell_amount * remaining_sell_amount}\")\n",
    "    print(f\"match no o: {result_no_o}\")\n",
    "    print(f\"match o sell: {result_o_sell}\")\n",
    "    print(f\"match o buy: {result_o_buy}\")\n",
    "\n",
    "# User does not have enough remaining to buy\n",
    "o_m(\n",
    "    maker_buy_amount=10000,\n",
    "    remaining_buy_amount=9999,\n",
    "    maker_sell_amount=10000,\n",
    "    remaining_sell_amount=10000,\n",
    ")\n",
    "# User does not have enough remaining to sell\n",
    "o_m(\n",
    "    maker_buy_amount=10000,\n",
    "    remaining_buy_amount=10000,\n",
    "    maker_sell_amount=10000,\n",
    "    remaining_sell_amount=9999,\n",
    ")\n",
    "\n"
   ]
  }
 ],
 "metadata": {
  "kernelspec": {
   "display_name": "Python 3",
   "language": "python",
   "name": "python3"
  },
  "language_info": {
   "codemirror_mode": {
    "name": "ipython",
    "version": 3
   },
   "file_extension": ".py",
   "mimetype": "text/x-python",
   "name": "python",
   "nbconvert_exporter": "python",
   "pygments_lexer": "ipython3",
   "version": "3.11.3"
  },
  "orig_nbformat": 4
 },
 "nbformat": 4,
 "nbformat_minor": 2
}
